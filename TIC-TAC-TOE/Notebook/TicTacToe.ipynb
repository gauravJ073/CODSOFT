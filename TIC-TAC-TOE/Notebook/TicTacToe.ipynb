{
 "cells": [
  {
   "attachments": {},
   "cell_type": "markdown",
   "metadata": {},
   "source": [
    "# Tic Tac Toe \n",
    "Creating a Tic Tac Toe AI that never looses using min max algorithm"
   ]
  },
  {
   "attachments": {},
   "cell_type": "markdown",
   "metadata": {},
   "source": [
    "## Steps involved to win tic-tac-toe\n",
    "\n",
    "1. Get current board state.\n",
    "2. Find all possible moves.\n",
    "3. Check if any one wins the game.\n",
    "4. Recursively call minmax for each move and return the score for each move.\n",
    "5. Out of all the returned scores, choose the best one to maximize AI winning. \n",
    "\n"
   ]
  },
  {
   "attachments": {},
   "cell_type": "markdown",
   "metadata": {},
   "source": [
    "### Making the board"
   ]
  },
  {
   "cell_type": "code",
   "execution_count": 1,
   "metadata": {},
   "outputs": [],
   "source": [
    "class Board:\n",
    "    def __init__(self):#calling default cunstructor\n",
    "        self.rows=3;\n",
    "        self.cols=3;\n",
    "        self.board=[[\" \" for i in range(self.cols)] for j in range(self.rows)]\n",
    "    \n",
    "    def printBoard(self):\n",
    "        for i in range(5):\n",
    "            if(i%2==0):\n",
    "                for j in range(5):\n",
    "                    if(j%2 == 0):\n",
    "                        print(self.board[int(i/2)][int(j/2)], end='')\n",
    "                    else:\n",
    "                        print(\"|\", end='')\n",
    "            else:\n",
    "                print(\"\\n-----\")\n",
    "        print(\"\\n\")\n",
    "    \n",
    "    def emptyPositions(self):\n",
    "        emptyPos=[(i,j) for i in range(3) for j in range(3) if self.board[i][j]==\" \"]\n",
    "        return emptyPos\n",
    "            \n",
    "            \n",
    "\n"
   ]
  },
  {
   "attachments": {},
   "cell_type": "markdown",
   "metadata": {},
   "source": [
    "### Making the game logic"
   ]
  },
  {
   "cell_type": "code",
   "execution_count": 2,
   "metadata": {},
   "outputs": [],
   "source": [
    "#exception for handling invalid moves\n",
    "class InvalidMove(Exception):\n",
    "    pass\n",
    "\n",
    "class Game:\n",
    "    #creating a constructor to initialize game variables\n",
    "    def __init__(self): \n",
    "        self.boardCurrState=Board()\n",
    "        self.AIMark=\"X\"\n",
    "        self.playerMark=\"O\"\n",
    "    \n",
    "    \n",
    "    \n",
    "    #funciton to mark a move made by any player\n",
    "    def __makeMove(self, boardState , player, row, col):\n",
    "        try:#using exception handling to make sure error doesnt occurs\n",
    "            if (((player==\"O\") or (player==\"X\")) and (boardState.board[row][col]==\" \")):\n",
    "                boardState.board[row][col]=player\n",
    "                return True\n",
    "            else:\n",
    "                raise InvalidMove(\"Invalid move played\")\n",
    "        except InvalidMove:\n",
    "            print(\"only 'X' and 'O' are valid moves on empty cells\")\n",
    "            return False\n",
    "            \n",
    "\n",
    "    #function to check if specified player has won the game\n",
    "    def checkWinner(self, boardState, player):\n",
    "        for row in boardState.board:\n",
    "            if all(cell == player for cell in row):\n",
    "                return True\n",
    "\n",
    "        for col in range(3):\n",
    "                if all(boardState.board[row][col] == player for row in range(3)):\n",
    "                    return True\n",
    "\n",
    "        if all(boardState.board[i][i] == player for i in range(3)) or all(boardState.board[i][2 - i] == player for i in range(3)):\n",
    "            return True\n",
    "\n",
    "        return False\n",
    "\n",
    "    def __minmax(self, boardState, currPlayer):#minmax to evaluate score of a move\n",
    "        #getting all possible moves using empty positions\n",
    "        possibleMoves=boardState.emptyPositions()\n",
    "        \n",
    "        #checking if any plyer has won or if there is no possible moves left\n",
    "        if (self.checkWinner(boardState, self.playerMark)):\n",
    "            return -1\n",
    "        if (self.checkWinner(boardState, self.AIMark)):\n",
    "            return 1\n",
    "        if (possibleMoves==[]):\n",
    "            return 1\n",
    "        \n",
    "        #using recursion to go through each possible move and get the maximum score for AI and minimum for Human player\n",
    "        #sum the scores of each\n",
    "        #choose best score\n",
    "        if currPlayer==self.AIMark:\n",
    "            max_score=float(\"-inf\")\n",
    "            score=0\n",
    "            for move in possibleMoves:\n",
    "                self.__makeMove(boardState, self.AIMark, move[0], move[1])\n",
    "                score+=self.__minmax(boardState, self.playerMark)\n",
    "                boardState.board[move[0]][move[1]]=\" \"\n",
    "                max_score=max(max_score, score)\n",
    "            return max_score\n",
    "        \n",
    "        else:\n",
    "            min_score=float(\"inf\")\n",
    "            score=0\n",
    "            for move in possibleMoves:\n",
    "                self.__makeMove(boardState, self.playerMark, move[0], move[1])\n",
    "                score+=self.__minmax(boardState, self.AIMark)\n",
    "                boardState.board[move[0]][move[1]]=\" \"\n",
    "                min_score=min(min_score, score)\n",
    "            return min_score\n",
    "\n",
    "    #function to get the best move for AI player\n",
    "    def __bestMove(self, boardState):\n",
    "        max_score=float(\"-inf\")\n",
    "        bestmove=None\n",
    "        possibleMoves=boardState.emptyPositions()\n",
    "\n",
    "        \n",
    "        for move in possibleMoves:\n",
    "            self.__makeMove(boardState, self.AIMark, move[0], move[1])\n",
    "            if(self.checkWinner(boardState, self.AIMark)):\n",
    "                boardState.board[move[0]][move[1]]=\" \"\n",
    "                return move\n",
    "            \n",
    "            move_score=self.__minmax(boardState, self.playerMark)\n",
    "            boardState.board[move[0]][move[1]]=\" \"\n",
    "            \n",
    "            if move_score>max_score:\n",
    "                max_score=move_score\n",
    "                bestmove=move\n",
    "        \n",
    "        \n",
    "        return bestmove\n",
    "\n",
    "    def gameEndCheck(self):\n",
    "        if (self.checkWinner(self.boardCurrState, self.playerMark)):\n",
    "            print(\"Human won\")\n",
    "            return True\n",
    "        if (self.checkWinner(self.boardCurrState, self.AIMark)):\n",
    "            print(\"AI won\")\n",
    "            return True\n",
    "        if (self.boardCurrState.emptyPositions==[]):\n",
    "            print(\"No one won\")\n",
    "            return True\n",
    "        return False\n",
    "    #function to make move for AI\n",
    "    def AITurn(self):\n",
    "        move=self.__bestMove(self.boardCurrState)\n",
    "        if(self.__makeMove(self.boardCurrState, self.AIMark, move[0], move[1])):\n",
    "            return True\n",
    "        else:\n",
    "            return False\n",
    "\n",
    "    #funciton to make move for Human player\n",
    "    def playerTurn(self, row, col):\n",
    "        if(self.__makeMove(self.boardCurrState, self.playerMark, row, col)):\n",
    "            return True\n",
    "        else:\n",
    "            return False\n",
    "\n"
   ]
  },
  {
   "attachments": {},
   "cell_type": "markdown",
   "metadata": {},
   "source": [
    "### Testing Game"
   ]
  },
  {
   "cell_type": "code",
   "execution_count": 3,
   "metadata": {},
   "outputs": [
    {
     "name": "stdout",
     "output_type": "stream",
     "text": [
      " | | \n",
      "-----\n",
      " | | \n",
      "-----\n",
      " | | \n",
      "\n"
     ]
    }
   ],
   "source": [
    "game=Game()\n",
    "game.boardCurrState.printBoard()\n"
   ]
  },
  {
   "cell_type": "code",
   "execution_count": 4,
   "metadata": {},
   "outputs": [
    {
     "name": "stdout",
     "output_type": "stream",
     "text": [
      " | | \n",
      "-----\n",
      " |O| \n",
      "-----\n",
      " | | \n",
      "\n",
      "X| | \n",
      "-----\n",
      " |O| \n",
      "-----\n",
      " | | \n",
      "\n"
     ]
    }
   ],
   "source": [
    "game.playerTurn(1, 1)\n",
    "game.boardCurrState.printBoard()\n",
    "game.AITurn()\n",
    "game.boardCurrState.printBoard()\n",
    "if(game.gameEndCheck()):\n",
    "    print(\"Game ended\")"
   ]
  },
  {
   "cell_type": "code",
   "execution_count": 5,
   "metadata": {},
   "outputs": [
    {
     "name": "stdout",
     "output_type": "stream",
     "text": [
      "X| | \n",
      "-----\n",
      " |O| \n",
      "-----\n",
      " | |O\n",
      "\n",
      "X| | \n",
      "-----\n",
      " |O| \n",
      "-----\n",
      "X| |O\n",
      "\n"
     ]
    }
   ],
   "source": [
    "game.playerTurn(2, 2)\n",
    "game.boardCurrState.printBoard()\n",
    "game.AITurn()\n",
    "game.boardCurrState.printBoard()\n",
    "if(game.gameEndCheck()):\n",
    "    print(\"Game ended\")"
   ]
  },
  {
   "cell_type": "code",
   "execution_count": 6,
   "metadata": {},
   "outputs": [
    {
     "name": "stdout",
     "output_type": "stream",
     "text": [
      "X| |O\n",
      "-----\n",
      " |O| \n",
      "-----\n",
      "X| |O\n",
      "\n",
      "X| |O\n",
      "-----\n",
      "X|O| \n",
      "-----\n",
      "X| |O\n",
      "\n",
      "AI won\n",
      "Game ended\n"
     ]
    }
   ],
   "source": [
    "game.playerTurn(0, 2)\n",
    "game.boardCurrState.printBoard()\n",
    "game.AITurn()\n",
    "game.boardCurrState.printBoard()\n",
    "if(game.gameEndCheck()):\n",
    "    print(\"Game ended\")"
   ]
  }
 ],
 "metadata": {
  "kernelspec": {
   "display_name": "base",
   "language": "python",
   "name": "python3"
  },
  "language_info": {
   "codemirror_mode": {
    "name": "ipython",
    "version": 3
   },
   "file_extension": ".py",
   "mimetype": "text/x-python",
   "name": "python",
   "nbconvert_exporter": "python",
   "pygments_lexer": "ipython3",
   "version": "3.10.1"
  },
  "orig_nbformat": 4
 },
 "nbformat": 4,
 "nbformat_minor": 2
}
