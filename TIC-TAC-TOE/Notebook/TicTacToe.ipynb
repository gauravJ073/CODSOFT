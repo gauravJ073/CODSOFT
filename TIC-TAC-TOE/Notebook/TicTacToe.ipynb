{
 "cells": [
  {
   "attachments": {},
   "cell_type": "markdown",
   "metadata": {},
   "source": [
    "# Tic Tac Toe \n",
    "Creating a Tic Tac Toe AI that never looses using min max algorithm"
   ]
  },
  {
   "attachments": {},
   "cell_type": "markdown",
   "metadata": {},
   "source": [
    "## Steps involved to win tic-tac-toe\n",
    "\n",
    "1. Get current board state.\n",
    "2. Find all possible moves.\n",
    "3. Check if any one wins the game.\n",
    "4. Recursively call minmax for each move and return the score for each move.\n",
    "5. Out of all the returned scores, choose the best one to maximize AI winning. \n",
    "\n"
   ]
  },
  {
   "attachments": {},
   "cell_type": "markdown",
   "metadata": {},
   "source": [
    "### Making the board"
   ]
  },
  {
   "cell_type": "code",
   "execution_count": 5,
   "metadata": {},
   "outputs": [],
   "source": [
    "class Board:\n",
    "    def __init__(self):#calling default cunstructor\n",
    "        self.rows=3;\n",
    "        self.cols=3;\n",
    "        self.board=[[\" \" for i in range(self.cols)] for j in range(self.rows)]\n",
    "    \n",
    "    def printBoard(self):\n",
    "        for i in range(5):\n",
    "            if(i%2==0):\n",
    "                for j in range(5):\n",
    "                    if(j%2 == 0):\n",
    "                        print(self.board[int(i/2)][int(j/2)], end='')\n",
    "                    else:\n",
    "                        print(\"|\", end='')\n",
    "            else:\n",
    "                print(\"\\n_____\")\n",
    "        print(\"\\n\")\n",
    "    \n",
    "    def emptyPositions(self):\n",
    "        emptyPos=[(i,j) for i in range(3) for j in range(3) if self.board[i][j]==\" \"]\n",
    "        return emptyPos\n",
    "            \n",
    "            \n",
    "\n"
   ]
  },
  {
   "attachments": {},
   "cell_type": "markdown",
   "metadata": {},
   "source": [
    "### Making the game logic"
   ]
  },
  {
   "cell_type": "code",
   "execution_count": 63,
   "metadata": {},
   "outputs": [],
   "source": [
    "#exception for handling invalid moves\n",
    "class InvalidMove(Exception):\n",
    "    pass\n",
    "\n",
    "class Game:\n",
    "    #creating a constructor to initialize game variables\n",
    "    def __init__(self): \n",
    "        self.boardCurrState=Board()\n",
    "        self.AIMark=\"X\"\n",
    "        self.playerMark=\"O\"\n",
    "    \n",
    "    \n",
    "    \n",
    "    #funciton to mark a move made by any player\n",
    "    def makeMove(self, boardState , player, row, col):\n",
    "        try:#using exception handling to make sure error doesnt occurs\n",
    "            if (((player==\"O\") or (player==\"X\")) and (boardState.board[row][col]==\" \")):\n",
    "                boardState.board[row][col]=player\n",
    "                return True\n",
    "            else:\n",
    "                raise InvalidMove(\"Invalid move played\")\n",
    "        except InvalidMove:\n",
    "            print(\"only 'X' and 'O' are valid moves on empty cells\")\n",
    "            return False\n",
    "            \n",
    "\n",
    "    #function to check if specified player has won the game\n",
    "    def checkWinner(self, boardState, player):\n",
    "        for row in range(boardState.rows):#checking if any row has same mark\n",
    "            win=True\n",
    "            for col in range(boardState.cols):\n",
    "                if (boardState.board[row][col]!=player):\n",
    "                    win=False\n",
    "                    break\n",
    "            if(win):\n",
    "                return True\n",
    "\n",
    "        for col in range(boardState.cols):#checking if any column has same mark\n",
    "            win=True\n",
    "            for row in range(boardState.rows):\n",
    "                if (boardState.board[row][col]!=player):\n",
    "                    win=False\n",
    "                    break\n",
    "            if(win):\n",
    "                return True\n",
    "        \n",
    "        win=True\n",
    "        for row in range(boardState.rows):#checking if diagnol cells has same mark\n",
    "            for col in range(boardState.cols):\n",
    "                if (row==col and boardState.board[row][col]!=player):\n",
    "                    win=False\n",
    "                    break\n",
    "        if(win):\n",
    "            return True\n",
    "        \n",
    "        win=True\n",
    "        for row in range(boardState.rows):#checking other diagnol\n",
    "            for col in range(boardState.cols):\n",
    "                if (row%2==col%2 and (row!=col or (row==1 and col==1)) and boardState.board[row][col]!=player):\n",
    "                    win=False\n",
    "                    break\n",
    "        if(win):\n",
    "            return True\n",
    "        \n",
    "        return False\n",
    "\n",
    "    def minmax(self, boardState, currPlayer):#minmax to evaluate score of a move\n",
    "        #getting all possible moves using empty positions\n",
    "        possibleMoves=boardState.emptyPositions()\n",
    "        \n",
    "        #checking if any plyer has won or if there is no possible moves left\n",
    "        if (self.checkWinner(boardState, self.playerMark)):\n",
    "            return -1\n",
    "        if (self.checkWinner(boardState, self.AIMark)):\n",
    "            return 1\n",
    "        if (possibleMoves==[]):\n",
    "            return 0\n",
    "        \n",
    "        #using recursion to go through each possible move and get the maximum score for AI and minimum for Human player\n",
    "        #sum the scores\n",
    "        #store sum of scored of each move\n",
    "        #choose best score\n",
    "        if currPlayer==self.AIMark:\n",
    "            max_score=float(\"-inf\")\n",
    "            for move in possibleMoves:\n",
    "                self.makeMove(boardState, self.AIMark, move[0], move[1])\n",
    "                score=self.minmax(boardState, self.playerMark)\n",
    "                boardState.board[move[0]][move[1]]=\" \"\n",
    "                max_score=max(max_score, score)\n",
    "            return max_score\n",
    "        \n",
    "        else:\n",
    "            min_score=float(\"inf\")\n",
    "            for move in possibleMoves:\n",
    "                self.makeMove(boardState, self.playerMark, move[0], move[1])\n",
    "                score=self.minmax(boardState, self.AIMark)\n",
    "                boardState.board[move[0]][move[1]]=\" \"\n",
    "                min_score=min(min_score, score)\n",
    "            return min_score\n",
    "\n",
    "    #function to get the best move for AI player\n",
    "    def bestMove(self, boardState):\n",
    "        max_score=float(\"-inf\")\n",
    "        bestmove=None\n",
    "        possibleMoves=boardState.emptyPositions()\n",
    "\n",
    "        tempBoard=boardState\n",
    "        for move in possibleMoves:\n",
    "            self.makeMove(boardState, self.AIMark, move[0], move[1])\n",
    "            move_score=self.minmax(boardState, self.playerMark)\n",
    "            boardState.board[move[0]][move[1]]=\" \"\n",
    "            if move_score>max_score:\n",
    "                max_score=move_score\n",
    "                bestmove=move\n",
    "        boardState=tempBoard\n",
    "        \n",
    "        return bestmove\n",
    "\n",
    "    def gameEndCheck(self):\n",
    "        if (self.checkWinner(self.boardCurrState, self.playerMark)):\n",
    "            print(\"Human won\")\n",
    "        if (self.checkWinner(self.boardCurrState, self.AIMark)):\n",
    "            print(\"AI won\")\n",
    "        if (self.boardCurrState.emptyPositions==[]):\n",
    "            print(\"Noone won\")\n",
    "    #function to make move for AI\n",
    "    def AITurn(self):\n",
    "        move=self.bestMove(self.boardCurrState)\n",
    "        self.makeMove(self.boardCurrState, self.AIMark, move[0], move[1])\n",
    "        self.gameEndCheck()\n",
    "\n",
    "    #funciton to make move for Human player\n",
    "    def playerTurn(self, row, col):\n",
    "        self.makeMove(self.boardCurrState, self.playerMark, row, col)\n",
    "        self.gameEndCheck()\n",
    "\n"
   ]
  },
  {
   "cell_type": "code",
   "execution_count": 64,
   "metadata": {},
   "outputs": [
    {
     "name": "stdout",
     "output_type": "stream",
     "text": [
      " | | \n",
      "_____\n",
      " | | \n",
      "_____\n",
      " | | \n",
      "\n",
      " | | \n",
      "_____\n",
      " | | \n",
      "_____\n",
      "O| | \n",
      "\n"
     ]
    },
    {
     "data": {
      "text/plain": [
       "False"
      ]
     },
     "execution_count": 64,
     "metadata": {},
     "output_type": "execute_result"
    }
   ],
   "source": [
    "game=Game()\n",
    "game.boardCurrState.printBoard()\n",
    "game.makeMove(game.boardCurrState,\"O\", 2, 0)\n",
    "game.boardCurrState.printBoard()\n",
    "game.checkWinner(game.boardCurrState,\"X\")"
   ]
  },
  {
   "cell_type": "code",
   "execution_count": 65,
   "metadata": {},
   "outputs": [
    {
     "name": "stdout",
     "output_type": "stream",
     "text": [
      " | | \n",
      "_____\n",
      " |X| \n",
      "_____\n",
      "O| | \n",
      "\n"
     ]
    }
   ],
   "source": [
    "game.AITurn()\n",
    "game.boardCurrState.printBoard()"
   ]
  },
  {
   "cell_type": "code",
   "execution_count": 66,
   "metadata": {},
   "outputs": [
    {
     "name": "stdout",
     "output_type": "stream",
     "text": [
      " | |O\n",
      "_____\n",
      " |X| \n",
      "_____\n",
      "O| | \n",
      "\n",
      " |X|O\n",
      "_____\n",
      " |X| \n",
      "_____\n",
      "O| | \n",
      "\n"
     ]
    }
   ],
   "source": [
    "game.playerTurn(0, 2)\n",
    "game.boardCurrState.printBoard()\n",
    "game.AITurn()\n",
    "game.boardCurrState.printBoard()"
   ]
  },
  {
   "cell_type": "code",
   "execution_count": 67,
   "metadata": {},
   "outputs": [
    {
     "name": "stdout",
     "output_type": "stream",
     "text": [
      "O|X|O\n",
      "_____\n",
      " |X| \n",
      "_____\n",
      "O| | \n",
      "\n",
      "O|X|O\n",
      "_____\n",
      "X|X| \n",
      "_____\n",
      "O| | \n",
      "\n"
     ]
    }
   ],
   "source": [
    "game.playerTurn(0, 0)\n",
    "game.boardCurrState.printBoard()\n",
    "game.AITurn()\n",
    "game.boardCurrState.printBoard()"
   ]
  },
  {
   "cell_type": "code",
   "execution_count": 61,
   "metadata": {},
   "outputs": [
    {
     "name": "stdout",
     "output_type": "stream",
     "text": [
      "O|X|O\n",
      "_____\n",
      " |X| \n",
      "_____\n",
      "O|O|X\n",
      "\n",
      "O|X|O\n",
      "_____\n",
      "X|X| \n",
      "_____\n",
      "O|O|X\n",
      "\n"
     ]
    }
   ],
   "source": [
    "game.playerTurn(0, 0)\n",
    "game.boardCurrState.printBoard()\n",
    "game.AITurn()\n",
    "game.boardCurrState.printBoard()"
   ]
  },
  {
   "cell_type": "code",
   "execution_count": 62,
   "metadata": {},
   "outputs": [
    {
     "name": "stdout",
     "output_type": "stream",
     "text": [
      "O|X|O\n",
      "_____\n",
      "X|X|O\n",
      "_____\n",
      "O|O|X\n",
      "\n"
     ]
    },
    {
     "ename": "TypeError",
     "evalue": "'NoneType' object is not subscriptable",
     "output_type": "error",
     "traceback": [
      "\u001b[1;31m---------------------------------------------------------------------------\u001b[0m",
      "\u001b[1;31mTypeError\u001b[0m                                 Traceback (most recent call last)",
      "Cell \u001b[1;32mIn[62], line 3\u001b[0m\n\u001b[0;32m      1\u001b[0m game\u001b[39m.\u001b[39mplayerTurn(\u001b[39m1\u001b[39m, \u001b[39m2\u001b[39m)\n\u001b[0;32m      2\u001b[0m game\u001b[39m.\u001b[39mboardCurrState\u001b[39m.\u001b[39mprintBoard()\n\u001b[1;32m----> 3\u001b[0m game\u001b[39m.\u001b[39;49mAITurn()\n\u001b[0;32m      4\u001b[0m game\u001b[39m.\u001b[39mboardCurrState\u001b[39m.\u001b[39mprintBoard()\n",
      "Cell \u001b[1;32mIn[56], line 120\u001b[0m, in \u001b[0;36mGame.AITurn\u001b[1;34m(self)\u001b[0m\n\u001b[0;32m    118\u001b[0m \u001b[39mdef\u001b[39;00m \u001b[39mAITurn\u001b[39m(\u001b[39mself\u001b[39m):\n\u001b[0;32m    119\u001b[0m     move\u001b[39m=\u001b[39m\u001b[39mself\u001b[39m\u001b[39m.\u001b[39mbestMove(\u001b[39mself\u001b[39m\u001b[39m.\u001b[39mboardCurrState)\n\u001b[1;32m--> 120\u001b[0m     \u001b[39mself\u001b[39m\u001b[39m.\u001b[39mmakeMove(\u001b[39mself\u001b[39m\u001b[39m.\u001b[39mboardCurrState, \u001b[39mself\u001b[39m\u001b[39m.\u001b[39mAIMark, move[\u001b[39m0\u001b[39;49m], move[\u001b[39m1\u001b[39m])\n",
      "\u001b[1;31mTypeError\u001b[0m: 'NoneType' object is not subscriptable"
     ]
    }
   ],
   "source": [
    "game.playerTurn(1, 2)\n",
    "game.boardCurrState.printBoard()\n",
    "game.AITurn()\n",
    "game.boardCurrState.printBoard()"
   ]
  },
  {
   "cell_type": "code",
   "execution_count": null,
   "metadata": {},
   "outputs": [],
   "source": []
  }
 ],
 "metadata": {
  "kernelspec": {
   "display_name": "base",
   "language": "python",
   "name": "python3"
  },
  "language_info": {
   "codemirror_mode": {
    "name": "ipython",
    "version": 3
   },
   "file_extension": ".py",
   "mimetype": "text/x-python",
   "name": "python",
   "nbconvert_exporter": "python",
   "pygments_lexer": "ipython3",
   "version": "3.11.4"
  },
  "orig_nbformat": 4
 },
 "nbformat": 4,
 "nbformat_minor": 2
}
