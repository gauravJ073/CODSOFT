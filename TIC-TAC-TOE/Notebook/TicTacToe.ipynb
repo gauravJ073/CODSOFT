{
 "cells": [
  {
   "attachments": {},
   "cell_type": "markdown",
   "metadata": {},
   "source": [
    "# Tic Tac Toe \n",
    "Creating a Tic Tac Toe AI that never looses using min max algorithm"
   ]
  },
  {
   "attachments": {},
   "cell_type": "markdown",
   "metadata": {},
   "source": [
    "## Steps involved to win tic-tac-toe\n",
    "\n",
    "1. Get current board state.\n",
    "2. Find all possible moves.\n",
    "3. Check if any one wins the game.\n",
    "4. Recursively call minmax for each move and return the score for each move.\n",
    "5. Out of all the returned scores, choose the best one to maximize AI winning. \n",
    "\n"
   ]
  },
  {
   "attachments": {},
   "cell_type": "markdown",
   "metadata": {},
   "source": [
    "### First we make a board"
   ]
  },
  {
   "cell_type": "code",
   "execution_count": 25,
   "metadata": {},
   "outputs": [],
   "source": [
    "class Board:\n",
    "    def __init__(self):#calling default cunstructor\n",
    "        self.rows=3;\n",
    "        self.cols=3;\n",
    "        self.board=[[\" \" for i in range(self.cols)] for j in range(self.rows)]\n",
    "    \n",
    "    def printBoard(self):\n",
    "        for i in range(5):\n",
    "            if(i%2==0):\n",
    "                for j in range(5):\n",
    "                    if(j%2 == 0):\n",
    "                        print(self.board[int(i/2)][int(j/2)], end='')\n",
    "                    else:\n",
    "                        print(\"|\", end='')\n",
    "            else:\n",
    "                print(\"\\n_____\")\n",
    "        print(\"\\n\")\n",
    "    \n",
    "    def emptyPositions(self):\n",
    "        emptypos=[(i,j) for i in range(3) for j in range(3) if self.board[i][j]==\" \"]\n",
    "        return emptypos\n",
    "            \n",
    "            \n",
    "\n"
   ]
  },
  {
   "cell_type": "code",
   "execution_count": 46,
   "metadata": {},
   "outputs": [],
   "source": [
    "class Game:\n",
    "    def __init__(self):\n",
    "        self.boardCurrState=Board()\n",
    "    \n",
    "    class InvalidMove(Exception):\n",
    "        pass\n",
    "    \n",
    "    def makeMove(self, player, row, col):\n",
    "        try:\n",
    "            if (player==\"O\") or (player==\"X\"):\n",
    "                self.boardCurrState.board[row][col]=player\n",
    "                return True\n",
    "            else:\n",
    "                raise InvalidMove(\"Invalid move played\")\n",
    "        except InvalidMove:\n",
    "            print(\"only 'X' and 'O' are valid moves\")\n",
    "            return False\n",
    "            \n",
    "\n",
    "    def checkWinner(self, player):\n",
    "        \n",
    "        for row in range(self.boardCurrState.rows):\n",
    "            win=True\n",
    "            for col in range(self.boardCurrState.cols):\n",
    "                if (self.boardCurrState.board[row][col]!=player):\n",
    "                    win=False\n",
    "                    break\n",
    "            if(win):\n",
    "                return True\n",
    "\n",
    "        for col in range(self.boardCurrState.cols):\n",
    "            win=True\n",
    "            for row in range(self.boardCurrState.rows):\n",
    "                if (self.boardCurrState.board[row][col]!=player):\n",
    "                    win=False\n",
    "                    break\n",
    "            if(win):\n",
    "                return True\n",
    "        \n",
    "        win=True\n",
    "        for row in range(self.boardCurrState.rows):\n",
    "            for col in range(self.boardCurrState.cols):\n",
    "                if (row==col and self.boardCurrState.board[row][col]!=player):\n",
    "                    win=False\n",
    "                    break\n",
    "        if(win):\n",
    "            return True\n",
    "        \n",
    "        win=True\n",
    "        for row in range(self.boardCurrState.rows):\n",
    "            for col in range(self.boardCurrState.cols):\n",
    "                if (row%2==col%2 and (row!=col or (row==1 and col==1)) and self.boardCurrState.board[row][col]!=player):\n",
    "                    win=False\n",
    "                    break\n",
    "        if(win):\n",
    "            return True\n",
    "        \n",
    "        return False\n"
   ]
  },
  {
   "cell_type": "code",
   "execution_count": 47,
   "metadata": {},
   "outputs": [
    {
     "name": "stdout",
     "output_type": "stream",
     "text": [
      " | | \n",
      "_____\n",
      " | | \n",
      "_____\n",
      " | | \n",
      "\n"
     ]
    }
   ],
   "source": [
    "brd=Board()\n",
    "brd.printBoard()"
   ]
  },
  {
   "cell_type": "code",
   "execution_count": 48,
   "metadata": {},
   "outputs": [],
   "source": [
    "brd.emptyPositions()\n",
    "if(brd.emptyPositions()==[]):\n",
    "    print(\"empty\")"
   ]
  },
  {
   "cell_type": "code",
   "execution_count": 49,
   "metadata": {},
   "outputs": [
    {
     "name": "stdout",
     "output_type": "stream",
     "text": [
      " | | \n",
      "_____\n",
      " | | \n",
      "_____\n",
      " | | \n",
      "\n",
      "only 'X' and 'O' are valid moves\n",
      " | | \n",
      "_____\n",
      " |X| \n",
      "_____\n",
      "X| | \n",
      "\n"
     ]
    },
    {
     "data": {
      "text/plain": [
       "False"
      ]
     },
     "execution_count": 49,
     "metadata": {},
     "output_type": "execute_result"
    }
   ],
   "source": [
    "game=Game()\n",
    "game.boardCurrState.printBoard()\n",
    "game.makeMove(\"X\", 2, 0)\n",
    "game.makeMove(\"X\", 1, 1)\n",
    "game.makeMove(\"-\", 0, 2)\n",
    "game.boardCurrState.printBoard()\n",
    "game.checkWinner(\"X\")"
   ]
  },
  {
   "cell_type": "code",
   "execution_count": null,
   "metadata": {},
   "outputs": [],
   "source": []
  }
 ],
 "metadata": {
  "kernelspec": {
   "display_name": "base",
   "language": "python",
   "name": "python3"
  },
  "language_info": {
   "codemirror_mode": {
    "name": "ipython",
    "version": 3
   },
   "file_extension": ".py",
   "mimetype": "text/x-python",
   "name": "python",
   "nbconvert_exporter": "python",
   "pygments_lexer": "ipython3",
   "version": "3.11.4"
  },
  "orig_nbformat": 4
 },
 "nbformat": 4,
 "nbformat_minor": 2
}
